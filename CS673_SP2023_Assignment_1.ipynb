{
  "nbformat": 4,
  "nbformat_minor": 0,
  "metadata": {
    "colab": {
      "provenance": [],
      "authorship_tag": "ABX9TyNJoJ0QoebBe/dNieaUSJHi",
      "include_colab_link": true
    },
    "kernelspec": {
      "name": "python3",
      "display_name": "Python 3"
    },
    "language_info": {
      "name": "python"
    }
  },
  "cells": [
    {
      "cell_type": "markdown",
      "metadata": {
        "id": "view-in-github",
        "colab_type": "text"
      },
      "source": [
        "<a href=\"https://colab.research.google.com/github/Achint08/AI-chess-bot/blob/master/CS673_SP2023_Assignment_1.ipynb\" target=\"_parent\"><img src=\"https://colab.research.google.com/assets/colab-badge.svg\" alt=\"Open In Colab\"/></a>"
      ]
    },
    {
      "cell_type": "markdown",
      "source": [
        "2 . Write a program that prints 'Hello World' to the screen"
      ],
      "metadata": {
        "id": "2qS5UPq5pLe2"
      }
    },
    {
      "cell_type": "code",
      "source": [
        "class HelloWorld:\n",
        "    def __init__(self):\n",
        "        self.message = \"Hello World\"\n",
        "\n",
        "    def print_message(self):\n",
        "        print(self.message)\n",
        "\n",
        "hello_world = HelloWorld()\n",
        "hello_world.print_message()\n"
      ],
      "metadata": {
        "colab": {
          "base_uri": "https://localhost:8080/"
        },
        "id": "HmXK5VGBpbsB",
        "outputId": "7c73e4f5-3f3f-4234-9255-a8c94e4ef51a"
      },
      "execution_count": null,
      "outputs": [
        {
          "output_type": "stream",
          "name": "stdout",
          "text": [
            "Hello World\n"
          ]
        }
      ]
    },
    {
      "cell_type": "markdown",
      "source": [
        "3. Write a program that prints a multiplication table for numbers upto 12"
      ],
      "metadata": {
        "id": "6rgGtiPYpmir"
      }
    },
    {
      "cell_type": "code",
      "source": [
        "class MultiplicationTable:\n",
        "    def __init__(self, n):\n",
        "        self.n = n\n",
        "\n",
        "    def __str__(self):\n",
        "        table = []\n",
        "        for i in range(1, self.n + 1):\n",
        "            row = []\n",
        "            for j in range(1, self.n + 1):\n",
        "                row.append(i * j)\n",
        "            table.append(row)\n",
        "        max_width = len(str(table[-1][-1]))\n",
        "        table_str = ''\n",
        "        for row in table:\n",
        "            row_str = ' '.join([str(num).rjust(max_width) for num in row])\n",
        "            table_str += row_str + '\\n'\n",
        "        return table_str\n",
        "\n",
        "table = MultiplicationTable(12)\n",
        "print(table)"
      ],
      "metadata": {
        "colab": {
          "base_uri": "https://localhost:8080/"
        },
        "id": "T6kPZ05zpfTT",
        "outputId": "8a7b4725-4388-4833-f815-ef5f506ee4c6"
      },
      "execution_count": null,
      "outputs": [
        {
          "output_type": "stream",
          "name": "stdout",
          "text": [
            "  1   2   3   4   5   6   7   8   9  10  11  12\n",
            "  2   4   6   8  10  12  14  16  18  20  22  24\n",
            "  3   6   9  12  15  18  21  24  27  30  33  36\n",
            "  4   8  12  16  20  24  28  32  36  40  44  48\n",
            "  5  10  15  20  25  30  35  40  45  50  55  60\n",
            "  6  12  18  24  30  36  42  48  54  60  66  72\n",
            "  7  14  21  28  35  42  49  56  63  70  77  84\n",
            "  8  16  24  32  40  48  56  64  72  80  88  96\n",
            "  9  18  27  36  45  54  63  72  81  90  99 108\n",
            " 10  20  30  40  50  60  70  80  90 100 110 120\n",
            " 11  22  33  44  55  66  77  88  99 110 121 132\n",
            " 12  24  36  48  60  72  84  96 108 120 132 144\n",
            "\n"
          ]
        }
      ]
    },
    {
      "cell_type": "markdown",
      "source": [
        "4.Write a function that tests wheather a string is a palindrome and test it in your program"
      ],
      "metadata": {
        "id": "9AFWDHFEp-cF"
      }
    },
    {
      "cell_type": "code",
      "source": [
        "class PalindromeTester:\n",
        "    def is_palindrome(self, string: str) -> bool:\n",
        "        string = string.lower()\n",
        "        return string == string[::-1]\n",
        "\n",
        "tester = PalindromeTester()\n",
        "\n",
        "test_cases = ['racecar', 'hello', 'level', 'deified']\n",
        "\n",
        "for test_case in test_cases:\n",
        "    result = tester.is_palindrome(test_case)\n",
        "    print(f'{test_case}: {\"is a palindrome\" if result else \"is not a palindrome\"}')"
      ],
      "metadata": {
        "colab": {
          "base_uri": "https://localhost:8080/"
        },
        "id": "4OJZmfkSqKXZ",
        "outputId": "23ee254d-5634-452c-a4d3-32a2c862ea87"
      },
      "execution_count": null,
      "outputs": [
        {
          "output_type": "stream",
          "name": "stdout",
          "text": [
            "racecar: is a palindrome\n",
            "hello: is not a palindrome\n",
            "level: is a palindrome\n",
            "deified: is a palindrome\n"
          ]
        }
      ]
    },
    {
      "cell_type": "markdown",
      "source": [
        "5.Write a function that combines two lists by alternatingly taking elements e.g[a,b,c],[1,2,3] ->[a,1,b,2,c,3] and test it in your program"
      ],
      "metadata": {
        "id": "0eXqCV0RqLIc"
      }
    },
    {
      "cell_type": "code",
      "source": [
        "class ListCombiner:\n",
        "\n",
        "  def __init__(self):\n",
        "    pass\n",
        "\n",
        "  def alternative_combine(self, list1, list2):\n",
        "      combined_list_result = []\n",
        "      for i, j in zip(list1, list2):\n",
        "          combined_list_result.append(i)\n",
        "          combined_list_result.append(j)\n",
        "      return combined_list_result\n",
        "\n",
        "list1 = ['a', 'b', 'c']\n",
        "list2 = [1, 2, 3]\n",
        "\n",
        "list_combiner = ListCombiner()\n",
        "print(list_combiner.alternative_combine(list1, list2))    "
      ],
      "metadata": {
        "id": "TI8dTHa7qvy2",
        "colab": {
          "base_uri": "https://localhost:8080/"
        },
        "outputId": "2add4df3-e11b-469d-ab84-fdc33dc3687d"
      },
      "execution_count": null,
      "outputs": [
        {
          "output_type": "stream",
          "name": "stdout",
          "text": [
            "['a', 1, 'b', 2, 'c', 3]\n"
          ]
        }
      ]
    },
    {
      "cell_type": "markdown",
      "source": [
        "6.Write a function that computes the list of the first 100 Fibonacci numbers.The first two Fibonacci numbers are 1 and 1.The n+1-st Fibonacci number can be computed by adding the nth and the n-1th Fibonacci number.The first few are therefore 1,1,1+1 = 2,1+2 = 3,2+3 = 5,3+5 = 8.Test it in your program."
      ],
      "metadata": {
        "id": "cfQIXUREqwbo"
      }
    },
    {
      "cell_type": "code",
      "source": [
        "class FibonacciGenerator:\n",
        "    def __init__(self):\n",
        "        self.prev_fib = [0, 1]\n",
        "\n",
        "    def generate_next(self):\n",
        "        next_fib = self.prev_fib[-1] + self.prev_fib[-2]\n",
        "        self.prev_fib.append(next_fib)\n",
        "        return next_fib\n",
        "\n",
        "def first_n_fibonacci_numbers(n):\n",
        "    fib_gen = FibonacciGenerator()\n",
        "    fib_numbers = []\n",
        "    for i in range(n):\n",
        "        fib_numbers.append(fib_gen.generate_next())\n",
        "    return fib_numbers\n",
        "\n",
        "print(first_n_fibonacci_numbers(100))"
      ],
      "metadata": {
        "colab": {
          "base_uri": "https://localhost:8080/"
        },
        "id": "Rq-V4i6ur0Jl",
        "outputId": "9046627f-ef0d-4fbc-e468-8a7d5040bd6b"
      },
      "execution_count": null,
      "outputs": [
        {
          "output_type": "stream",
          "name": "stdout",
          "text": [
            "[1, 2, 3, 5, 8, 13, 21, 34, 55, 89, 144, 233, 377, 610, 987, 1597, 2584, 4181, 6765, 10946, 17711, 28657, 46368, 75025, 121393, 196418, 317811, 514229, 832040, 1346269, 2178309, 3524578, 5702887, 9227465, 14930352, 24157817, 39088169, 63245986, 102334155, 165580141, 267914296, 433494437, 701408733, 1134903170, 1836311903, 2971215073, 4807526976, 7778742049, 12586269025, 20365011074, 32951280099, 53316291173, 86267571272, 139583862445, 225851433717, 365435296162, 591286729879, 956722026041, 1548008755920, 2504730781961, 4052739537881, 6557470319842, 10610209857723, 17167680177565, 27777890035288, 44945570212853, 72723460248141, 117669030460994, 190392490709135, 308061521170129, 498454011879264, 806515533049393, 1304969544928657, 2111485077978050, 3416454622906707, 5527939700884757, 8944394323791464, 14472334024676221, 23416728348467685, 37889062373143906, 61305790721611591, 99194853094755497, 160500643816367088, 259695496911122585, 420196140727489673, 679891637638612258, 1100087778366101931, 1779979416004714189, 2880067194370816120, 4660046610375530309, 7540113804746346429, 12200160415121876738, 19740274219868223167, 31940434634990099905, 51680708854858323072, 83621143489848422977, 135301852344706746049, 218922995834555169026, 354224848179261915075, 573147844013817084101]\n"
          ]
        }
      ]
    },
    {
      "cell_type": "markdown",
      "source": [
        "7.Write a function that determines if a given year is a leap year.Test it in your program"
      ],
      "metadata": {
        "id": "Twt32ODTr01j"
      }
    },
    {
      "cell_type": "code",
      "source": [
        "class LeapYearCalculator:\n",
        "\n",
        "    def is_leap_year(self, year):\n",
        "        if year % 4 == 0:\n",
        "            if year % 100 == 0:\n",
        "                if year % 400 == 0:\n",
        "                    return True\n",
        "                else:\n",
        "                    return False\n",
        "            else:\n",
        "                return True\n",
        "        else:\n",
        "            return False\n",
        "\n",
        "calculator = LeapYearCalculator()\n",
        "print(calculator.is_leap_year(1900)) # False\n",
        "print(calculator.is_leap_year(2000)) # True\n",
        "print(calculator.is_leap_year(2008)) # True\n",
        "print(calculator.is_leap_year(1992)) # True"
      ],
      "metadata": {
        "colab": {
          "base_uri": "https://localhost:8080/"
        },
        "id": "8TmdYVLpsAAY",
        "outputId": "64e7a9b7-f713-44fd-cf7b-38bf492deaf1"
      },
      "execution_count": null,
      "outputs": [
        {
          "output_type": "stream",
          "name": "stdout",
          "text": [
            "False\n",
            "True\n",
            "True\n",
            "True\n"
          ]
        }
      ]
    }
  ]
}